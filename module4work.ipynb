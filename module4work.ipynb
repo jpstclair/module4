{
 "cells": [
  {
   "cell_type": "markdown",
   "metadata": {},
   "source": [
    "# Web Mining and Applied NLP (44-620)\n",
    "\n",
    "## Requests, JSON, and NLP\n",
    "\n",
    "### Student Name: James \n",
    "\n",
    "Perform the tasks described in the Markdown cells below.  When you have completed the assignment make sure your code cells have all been run (and have output beneath them) and ensure you have committed and pushed ALL of your changes to your assignment repository.\n",
    "\n",
    "Make sure you have [installed spaCy and its pipeline](https://spacy.io/usage#quickstart) and [spaCyTextBlob](https://spacy.io/universe/project/spacy-textblob)\n",
    "\n",
    "Every question that requires you to write code will have a code cell underneath it; you may either write your entire solution in that cell or write it in a python file (`.py`), then import and run the appropriate code to answer the question.\n",
    "\n",
    "This assignment requires that you write additional files (either JSON or pickle files); make sure to submit those files in your repository as well."
   ]
  },
  {
   "cell_type": "markdown",
   "metadata": {},
   "source": [
    "1. The following code accesses the [lyrics.ovh](https://lyricsovh.docs.apiary.io/#reference/0/lyrics-of-a-song/search) public api, searches for the lyrics of a song, and stores it in a dictionary object.  Write the resulting json to a file (either a JSON file or a pickle file; you choose). You will read in the contents of this file for future questions so we do not need to frequently access the API."
   ]
  },
  {
   "cell_type": "code",
   "execution_count": 1,
   "metadata": {},
   "outputs": [],
   "source": [
    "import requests\n",
    "import json\n",
    "\n",
    "result = json.loads(requests.get('https://api.lyrics.ovh/v1/They Might Be Giants/Birdhouse in your soul').text)\n",
    "\n",
    "\n"
   ]
  },
  {
   "cell_type": "code",
   "execution_count": 2,
   "metadata": {},
   "outputs": [
    {
     "name": "stdout",
     "output_type": "stream",
     "text": [
      "Take this kiss upon the brow!\n",
      "And, in parting from you now,\n",
      "Thus much let me avow--\n",
      "You are not wrong, who deem\n",
      "That my days have been a dream:\n",
      "Yet if hope has flown away\n",
      "In a night, or in a day,\n",
      "In a vision or in none,\n",
      "Is it therefore the less _gone_?\n",
      "_All_ that we see or seem\n",
      "Is but a dream within a dream.\n",
      "\n",
      "I stand amid the roar\n",
      "Of a surf-tormented shore,\n",
      "And I hold within my hand\n",
      "Grains of the golden sand--\n",
      "How few! yet how they creep\n",
      "Through my fingers to the deep\n",
      "While I weep--while I weep!\n",
      "O God! can I not grasp\n",
      "Them with a tighter clasp?\n",
      "O God! can I not save\n",
      "_One_ from the pitiless wave?\n",
      "Is _all_ that we see or seem\n",
      "But a dream within a dream?\n",
      "\"Take this kiss upon the brow!\\nAnd, in parting from you now,\\nThus much let me avow--\\nYou are not wrong, who deem\\nThat my days have been a dream:\\nYet if hope has flown away\\nIn a night, or in a day,\\nIn a vision or in none,\\nIs it therefore the less _gone_?\\n_All_ that we see or seem\\nIs but a dream within a dream.\\n\\nI stand amid the roar\\nOf a surf-tormented shore,\\nAnd I hold within my hand\\nGrains of the golden sand--\\nHow few! yet how they creep\\nThrough my fingers to the deep\\nWhile I weep--while I weep!\\nO God! can I not grasp\\nThem with a tighter clasp?\\nO God! can I not save\\n_One_ from the pitiless wave?\\nIs _all_ that we see or seem\\nBut a dream within a dream?\"\n"
     ]
    }
   ],
   "source": [
    "import requests\n",
    "import json\n",
    "\n",
    "ARTIST='Edgar Allan Poe'\n",
    "SONG = 'A Dream Within A Dream'\n",
    "\n",
    "#only certain poets and titles are available\n",
    "#to see the available poets, go to (in a web browser)\n",
    "# https://poetrydb.org/author\n",
    "#To see which poems that author has available, go to \n",
    "# https://poetrydb.org/author/AUTHOR NAME\n",
    "# e.g.: https://poetrydb.org/author/Edgar Allan Poe\n",
    "#The spaces will get handled by your web browser\n",
    "\n",
    "# A cool pythonism (introduced in Python 3): f strings\n",
    "# https://docs.python.org/3/tutorial/inputoutput.html#tut-f-strings\n",
    "URL = f'https://poetrydb.org/author,title/{ARTIST};{SONG}'\n",
    "result = json.loads(requests.get(URL).text)\n",
    "poem = '\\n'.join(result[0]['lines']) \n",
    "\n",
    "print(poem)\n",
    "json_object = json.dumps(poem,indent = 25)\n",
    "print(json_object)"
   ]
  },
  {
   "cell_type": "markdown",
   "metadata": {},
   "source": [
    "2. Read in the contents of your file.  Print the lyrics of the song (not the entire dictionary!) and use spaCyTextBlob to perform sentiment analysis on the lyrics.  Print the polarity score of the sentiment analysis.  Given that the range of the polarity score is `[-1.0,1.0]` which corresponds to how positive or negative the text in question is, do you think the lyrics have a more positive or negative connotaion?  Answer this question in a comment in your code cell."
   ]
  },
  {
   "cell_type": "code",
   "execution_count": 4,
   "metadata": {},
   "outputs": [
    {
     "name": "stdout",
     "output_type": "stream",
     "text": [
      "\"Take this kiss upon the brow!\\nAnd, in parting from you now,\\nThus much let me avow--\\nYou are not wrong, who deem\\nThat my days have been a dream:\\nYet if hope has flown away\\nIn a night, or in a day,\\nIn a vision or in none,\\nIs it therefore the less _gone_?\\n_All_ that we see or seem\\nIs but a dream within a dream.\\n\\nI stand amid the roar\\nOf a surf-tormented shore,\\nAnd I hold within my hand\\nGrains of the golden sand--\\nHow few! yet how they creep\\nThrough my fingers to the deep\\nWhile I weep--while I weep!\\nO God! can I not grasp\\nThem with a tighter clasp?\\nO God! can I not save\\n_One_ from the pitiless wave?\\nIs _all_ that we see or seem\\nBut a dream within a dream?\"\n",
      "[(['much'], 0.2, 0.2, None), (['not', 'wrong'], 0.25, 0.9, None), (['less'], -0.16666666666666666, 0.06666666666666667, None), (['golden'], 0.3, 0.5, None), (['few', '!', '!', '!'], -0.390625, 0.1, None)]\n"
     ]
    }
   ],
   "source": [
    "print(json_object)\n",
    "import spacy\n",
    "from textblob import TextBlob\n",
    "\n",
    "text = json_object\n",
    "blob=TextBlob(text)\n",
    "print(blob.sentiment_assessments.assessments)"
   ]
  },
  {
   "cell_type": "markdown",
   "metadata": {},
   "source": [
    "3. Write a function that takes an artist, song, and filename, accesses the lyrics.ovh api to get the song lyrics, and writes the results to the specified filename.  Test this function by getting the lyrics to any four songs of your choice and storing them in different files."
   ]
  },
  {
   "cell_type": "code",
   "execution_count": 45,
   "metadata": {},
   "outputs": [
    {
     "name": "stdout",
     "output_type": "stream",
     "text": [
      "\"Once upon a midnight dreary, while I pondered, weak and weary,\\nOver many a quaint and curious volume of forgotten lore--\\nWhile I nodded, nearly napping, suddenly there came a tapping,\\nAs of some one gently rapping--rapping at my chamber door.\\n\\\"'Tis some visitor,\\\" I muttered, \\\"tapping at my chamber door--\\n        Only this and nothing more.\\\"\\n\\nAh, distinctly I remember, it was in the bleak December,\\nAnd each separate dying ember wrought its ghost upon the floor.\\nEagerly I wished the morrow;--vainly I had sought to borrow\\nFrom my books surcease of sorrow--sorrow for the lost Lenore--\\nFor the rare and radiant maiden whom the angels name Lenore--\\n        Nameless here for evermore.\\n\\nAnd the silken sad uncertain rustling of each purple curtain\\nThrilled me--filled me with fantastic terrors never felt before;\\nSo that now, to still the beating of my heart, I stood repeating\\n\\\"'Tis some visitor entreating entrance at my chamber door--\\nSome late visitor entreating entrance at my chamber door;--\\n    This it is and nothing more.\\\"\\n\\nPresently my soul grew stronger; hesitating then no longer,\\n\\\"Sir,\\\" said I, \\\"or Madam, truly your forgiveness I implore;\\nBut the fact is I was napping, and so gently you came rapping,\\nAnd so faintly you came tapping--tapping at my chamber door,\\nThat I scarce was sure I heard you\\\"--here I opened wide the door:--\\n      Darkness there and nothing more.\\n\\nDeep into that darkness peering, long I stood there wondering,\\n  fearing,\\nDoubting, dreaming dreams no mortal ever dared to dream before;\\nBut the silence was unbroken, and the darkness gave no token,\\nAnd the only word there spoken was the whispered word, \\\"Lenore!\\\"\\nThis I whispered, and an echo murmured back the word, \\\"Lenore!\\\"\\n      Merely this and nothing more.\\n\\nBack into the chamber turning, all my soul within me burning,\\nSoon I heard again a tapping, somewhat louder than before.\\n\\\"Surely,\\\" said I, \\\"surely that is something at my window lattice;\\nLet me see, then, what thereat is, and this mystery explore--\\nLet my heart be still a moment, and this mystery explore;--\\n    'Tis the wind and nothing more.\\\"\\n\\nOpen here I flung the shutter, when, with many a flirt and flutter,\\nIn there stepped a stately Raven of the saintly days of yore;\\nNot the least obeisance made he: not an instant stopped or stayed he;\\nBut, with mien of lord or lady, perched above my chamber door--\\nPerched upon a bust of Pallas just above my chamber door--\\n    Perched, and sat, and nothing more.\\n\\nThen this ebony bird beguiling my sad fancy into smiling,\\nBy the grave and stern decorum of the countenance it wore,\\n\\\"Though thy crest be shorn and shaven, thou,\\\" I said, \\\"art sure no\\n  craven,\\nGhastly grim and ancient Raven wandering from the Nightly shore--\\nTell me what thy lordly name is on the Night's Plutonian shore!\\\"\\n      Quoth the Raven, \\\"Nevermore.\\\"\\n\\nMuch I marvelled this ungainly fowl to hear discourse so plainly,\\nThough its answer little meaning--little relevancy bore;\\nFor we cannot help agreeing that no living human being\\nEver yet was blessed with seeing bird above his chamber door--\\nBird or beast upon the sculptured bust above his chamber door,\\n      With such name as \\\"Nevermore.\\\"\\n\\nBut the Raven, sitting lonely on that placid bust, spoke only\\nThat one word, as if his soul in that one word he did outpour.\\nNothing further then he uttered--not a feather then he fluttered--\\nTill I scarcely more than muttered, \\\"Other friends have flown before--\\nOn the morrow _he_ will leave me, as my hopes have flown before.\\\"\\n      Then the bird said, \\\"Nevermore.\\\"\\n\\nStartled at the stillness broken by reply so aptly spoken,\\n\\\"Doubtless,\\\" said I, \\\"what it utters is its only stock and store,\\nCaught from some unhappy master whom unmerciful Disaster\\nFollowed fast and followed faster till his songs one burden bore--\\nTill the dirges of his Hope the melancholy burden bore\\n    Of 'Never--nevermore.'\\\"\\n\\nBut the Raven still beguiling all my sad soul into smiling,\\nStraight I wheeled a cushioned seat in front of bird and bust and\\n  door;\\nThen, upon the velvet sinking, I betook myself to linking\\nFancy unto fancy, thinking what this ominous bird of yore--\\nWhat this grim, ungainly, ghastly, gaunt, and ominous bird of yore\\n    Meant in croaking \\\"Nevermore.\\\"\\n\\nThis I sat engaged in guessing, but no syllable expressing\\nTo the fowl whose fiery eyes now burned into my bosom's core;\\nThis and more I sat divining, with my head at ease reclining\\nOn the cushion's velvet lining that the lamp-light gloated o'er,\\nBut whose velvet violet lining with the lamp-light gloating o'er,\\n      _She_ shall press, ah, nevermore!\\n\\nThen, methought, the air grew denser, perfumed from an unseen censer\\nSwung by Seraphim whose foot-falls tinkled on the tufted floor.\\n\\\"Wretch,\\\" I cried, \\\"thy God hath lent thee--by these angels he hath\\n  sent thee\\nRespite--respite aad nepenth\\u00e9 from thy memories of Lenore!\\nQuaff, oh quaff this kind nepenth\\u00e9, and forget this lost Lenore!\\\"\\n      Quoth the Raven, \\\"Nevermore.\\\"\\n\\n\\\"Prophet!\\\" said I, \\\"thing of evil!--prophet still, if bird or devil!--\\nWhether Tempter sent, or whether tempest tossed thee here ashore,\\nDesolate yet all undaunted, on this desert land enchanted--\\nOn this home by Horror haunted--tell me truly, I implore--\\nIs there--_is_ there balm in Gilead?--tell me--tell me, I implore!\\\"\\n    Quoth the Raven, \\\"Nevermore.\\\"\\n\\n\\\"Prophet!\\\" said I, \\\"thing of evil!--prophet still, if bird or devil!\\nBy that Heaven that bends above us--by that God we both adore--\\nTell this soul with sorrow laden if, within the distant Aidenn,\\nIt shall clasp a sainted maiden whom the angels name Lenore--\\nClasp a rare and radiant maiden whom the angels name Lenore.\\\"\\n      Quoth the Raven, \\\"Nevermore.\\\"\\n\\n\\\"Be that word our sign of parting, bird or fiend!\\\" I shrieked,\\n  upstarting--\\n\\\"Get thee back into the tempest and the Night's Plutonian shore!\\nLeave no black plume as a token of that lie thy soul hath spoken!\\nLeave my loneliness unbroken!--quit the bust above my door!\\nTake thy beak from out my heart, and take thy form from off my door!\\\"\\n    Quoth the Raven, \\\"Nevermore.\\\"\\n\\nAnd the Raven, never flitting, still is sitting, still is sitting\\nOn the pallid bust of Pallas just above my chamber door;\\nAnd his eyes have all the seeming of a demon's that is dreaming,\\nAnd the lamp-light o'er him streaming throws his shadow on the floor;\\nAnd my soul from out that shadow that lies floating on the floor\\n    Shall be lifted--nevermore!\"\n",
      "\"It was many and many a year ago,\\n  In a kingdom by the sea,\\nThat a maiden there lived whom you may know\\n  By the name of ANNABEL LEE;\\nAnd this maiden she lived with no other thought\\n  Than to love and be loved by me.\\n\\n_I_ was a child and _she_ was a child,\\n  In this kingdom by the sea:\\nBut we loved with a love that was more than love--\\n  I and my ANNABEL LEE;\\nWith a love that the winged seraphs of heaven\\n  Coveted her and me.\\n\\nAnd this was the reason that, long ago,\\n  In this kingdom by the sea,\\nA wind blew out of a cloud, chilling\\n  My beautiful ANNABEL LEE;\\nSo that her highborn kinsmen came\\n  And bore her away from me,\\nTo shut her up in a sepulchre\\n  In this kingdom by the sea.\\n\\nThe angels, not half so happy in heaven,\\n  Went envying her and me--\\nYes!--that was the reason (as all men know,\\n  In this kingdom by the sea)\\nThat the wind came out of the cloud by night,\\n  Chilling and killing my ANNABEL LEE.\\n\\nBut our love it was stronger by far than the love\\n  Of those who were older than we--\\n  Of many far wiser than we--\\nAnd neither the angels in heaven above,\\n  Nor the demons down under the sea,\\nCan ever dissever my soul from the soul\\n  Of the beautiful ANNABEL LEE.\\n\\nFor the moon never beams without bringing me dreams\\n  Of the beautiful ANNABEL LEE;\\nAnd the stars never rise but I see the bright eyes\\n  Of the beautiful ANNABEL LEE;\\nAnd so, all the night-tide, I lie down by the side\\nOf my darling, my darling, my life and my bride,\\n  In her sepulchre there by the sea--\\n  In her tomb by the side of the sea.\"\n",
      "\"Hear the sledges with the bells--\\nSilver bells!\\nWhat a world of merriment their melody foretells!\\nHow they tinkle, tinkle, tinkle,\\nIn their icy air of night!\\nWhile the stars, that oversprinkle\\nAll the heavens, seem to twinkle\\nWith a crystalline delight;\\nKeeping time, time, time,\\nIn a sort of Runic rhyme,\\nTo the tintinnabulation that so musically wells\\nFrom the bells, bells, bells, bells,\\nBells, bells, bells--\\nFrom the jingling and the tinkling of the bells.\\n\\nHear the mellow wedding bells,\\nGolden bells!\\nWhat a world of happiness their harmony foretells!\\nThrough the balmy air of night\\nHow they ring out their delight!\\nFrom the molten golden-notes,\\nAnd all in tune,\\nWhat a liquid ditty floats\\nTo the turtle-dove that listens, while she gloats\\nOn the moon!\\nOh, from out the sounding cells,\\nWhat a gush of euphony voluminously wells!\\nHow it swells!\\nHow it dwells\\nOn the future! how it tells\\nOf the rapture that impels\\nTo the swinging and the ringing\\nOf the bells, bells, bells,\\nOf the bells, bells, bells, bells,\\nBells, bells, bells--\\nTo the rhyming and the chiming of the bells!\\n\\nHear the loud alarum bells--\\nBrazen bells!\\nWhat a tale of terror now their turbulency tells!\\nIn the startled ear of night\\nHow they scream out their affright!\\nToo much horrified to speak,\\nThey can only shriek, shriek,\\nOut of tune,\\nIn a clamorous appealing to the mercy of the fire,\\nIn a mad expostulation with the deaf and frantic fire\\nLeaping higher, higher, higher,\\nWith a desperate desire,\\nAnd a resolute endeavor\\nNow--now to sit or never,\\nBy the side of the pale-faced moon.\\nOh, the bells, bells, bells!\\nWhat a tale their terror tells\\nOf Despair!\\nHow they clang, and clash, and roar!\\nWhat a horror they outpour\\nOn the bosom of the palpitating air!\\nYet the ear it fully knows,\\nBy the twanging,\\nAnd the clanging,\\nHow the danger ebbs and flows;\\nYet the ear distinctly tells,\\nIn the jangling,\\nAnd the wrangling,\\nHow the danger sinks and swells,\\nBy the sinking or the swelling in the anger of the bells--\\nOf the bells--\\nOf the bells, bells, bells, bells,\\nBells, bells, bells--\\nIn the clamor and the clangor of the bells!\\n\\nHear the tolling of the bells--\\nIron bells!\\nWhat a world of solemn thought their monody compels!\\nIn the silence of the night,\\nHow we shiver with affright\\nAt the melancholy menace of their tone!\\nFor every sound that floats\\nFrom the rust within their throats\\n   Is a groan.\\nAnd the people--ah, the people--\\nThey that dwell up in the steeple.\\n    All alone,\\nAnd who tolling, tolling, tolling,\\n  In that muffled monotone,\\nFeel a glory in so rolling\\n  On the human heart a stone--\\nThey are neither man nor woman--\\nThey are neither brute nor human--\\n    They are Ghouls:\\nAnd their king it is who tolls;\\nAnd he rolls, rolls, rolls,\\n         Rolls\\nA p\\u00e6an from the bells!\\nAnd his merry bosom swells\\nWith the p\\u00e6an of the bells!\\nAnd he dances, and he yells;\\nKeeping time, time, time,\\nIn a sort of Runic rhyme,\\nTo the p\\u00e6an of the bells--\\n    Of the bells:\\nKeeping time, time, time,\\nIn a sort of Runic rhyme,\\n  To the throbbing of the bells--\\nOf the bells, bells, bells--\\n  To the sobbing of the bells;\\nKeeping time, time, time,\\n  As he knells, knells, knells,\\nIn a happy Runic rhyme,\\nTo the rolling of the bells--\\nOf the bells, bells, bells--\\nTo the tolling of the bells,\\nOf the bells, bells, bells, bells,\\n  Bells, bells, bells--\\nTo the moaning and the groaning of the bells.\"\n",
      "\"Ah, broken is the golden bowl! the spirit flown forever!\\nLet the bell toll!--a saintly soul floats on the Stygian river.\\nAnd, Guy de Vere, hast _thou_ no tear?--weep now or never more!\\nSee! on yon drear and rigid bier low lies thy love, Lenore!\\nCome! let the burial rite be read--the funeral song be sung!--\\nAn anthem for the queenliest dead that ever died so young--\\nA dirge for her, the doubly dead in that she died so young.\\n\\n\\\"Wretches! ye loved her for her wealth and hated her for her pride,\\nAnd when she fell in feeble health, ye blessed her--that she died!\\nHow _shall_ the ritual, then, be read?--the requiem how be sung\\nBy you--by yours, the evil eye,--by yours, the slanderous tongue\\nThat did to death the innocence that died, and died so young?\\\"\\n\\n_Peccavimus;_ but rave not thus! and let a Sabbath song\\nGo up to God so solemnly the dead may feel no wrong!\\nThe sweet Lenore hath \\\"gone before,\\\" with Hope, that flew beside,\\nLeaving thee wild for the dear child that should have been thy bride--\\nFor her, the fair and _d\\u00e9bonnaire_, that now so lowly lies,\\nThe life upon her yellow hair but not within her eyes--\\nThe life still there, upon her hair--the death upon her eyes.\\n\\n\\\"Avaunt! to-night my heart is light. No dirge will I upraise,\\nBut waft the angel on her flight with a p\\u00e6an of old days!\\nLet _no_ bell toll!--lest her sweet soul, amid its hallowed mirth,\\nShould catch the note, as it doth float up from the damned Earth.\\nTo friends above, from fiends below, the indignant ghost is riven--\\nFrom Hell unto a high estate far up within the Heaven--\\nFrom grief and groan to a golden throne beside the King of Heaven.\\\"\"\n"
     ]
    }
   ],
   "source": [
    "ARTIST='Edgar Allan Poe'\n",
    "SONG = 'Lenore'\n",
    "\n",
    "\n",
    "URL = f'https://poetrydb.org/author,title/{ARTIST};{SONG}'\n",
    "result = json.loads(requests.get(URL).text)\n",
    "poem4 = '\\n'.join(result[0]['lines']) \n",
    "\n",
    "\n",
    "\n",
    "\n",
    "Raven = json.dumps(poem1,indent = 25)\n",
    "Annabel = json.dumps(poem2,indent = 25)\n",
    "Bells = json.dumps(poem3,indent = 25)\n",
    "Lenore = json.dumps(poem4,indent = 25)\n",
    "\n",
    "\n",
    "def savefile(ARTIST, SONG, FILENAME):\n",
    "    URL = f'https://poetrydb.org/author,title/{ARTIST};{SONG}'\n",
    "    result = json.loads(requests.get(URL).text)\n",
    "    poem = '\\n'.join(result[0]['lines']) \n",
    "    FILENAME = json.dumps(poem,indent = 4)\n",
    "    print(FILENAME)\n",
    "    \n",
    "savefile('Edgar Allan Poe', 'The Raven', Raven)\n",
    "savefile('Edgar Allan Poe', 'Annabel Lee', Annabel)\n",
    "savefile('Edgar Allan Poe', 'The Bells', Bells)\n",
    "savefile('Edgar Allan Poe', 'Lenore', Lenore)\n"
   ]
  },
  {
   "cell_type": "markdown",
   "metadata": {},
   "source": [
    "4. Write a function that takes the name of a file that contains song lyrics, loads the file, performs sentiment analysis, and returns the polarity score.  Use this function to print the polarity scores (with the name of the song) of the three files you created in question 3.  Does the reported polarity match your understanding of the song's lyrics? Why or why not do you think that might be?  Answer the questions in either a comment in the code cell or a markdown cell under the code cell."
   ]
  },
  {
   "cell_type": "code",
   "execution_count": 46,
   "metadata": {},
   "outputs": [
    {
     "name": "stdout",
     "output_type": "stream",
     "text": [
      "\"Once upon a midnight dreary, while I pondered, weak and weary,\\nOver many a quaint and curious volume of forgotten lore--\\nWhile I nodded, nearly napping, suddenly there came a tapping,\\nAs of some one gently rapping--rapping at my chamber door.\\n\\\"'Tis some visitor,\\\" I muttered, \\\"tapping at my chamber door--\\n        Only this and nothing more.\\\"\\n\\nAh, distinctly I remember, it was in the bleak December,\\nAnd each separate dying ember wrought its ghost upon the floor.\\nEagerly I wished the morrow;--vainly I had sought to borrow\\nFrom my books surcease of sorrow--sorrow for the lost Lenore--\\nFor the rare and radiant maiden whom the angels name Lenore--\\n        Nameless here for evermore.\\n\\nAnd the silken sad uncertain rustling of each purple curtain\\nThrilled me--filled me with fantastic terrors never felt before;\\nSo that now, to still the beating of my heart, I stood repeating\\n\\\"'Tis some visitor entreating entrance at my chamber door--\\nSome late visitor entreating entrance at my chamber door;--\\n    This it is and nothing more.\\\"\\n\\nPresently my soul grew stronger; hesitating then no longer,\\n\\\"Sir,\\\" said I, \\\"or Madam, truly your forgiveness I implore;\\nBut the fact is I was napping, and so gently you came rapping,\\nAnd so faintly you came tapping--tapping at my chamber door,\\nThat I scarce was sure I heard you\\\"--here I opened wide the door:--\\n      Darkness there and nothing more.\\n\\nDeep into that darkness peering, long I stood there wondering,\\n  fearing,\\nDoubting, dreaming dreams no mortal ever dared to dream before;\\nBut the silence was unbroken, and the darkness gave no token,\\nAnd the only word there spoken was the whispered word, \\\"Lenore!\\\"\\nThis I whispered, and an echo murmured back the word, \\\"Lenore!\\\"\\n      Merely this and nothing more.\\n\\nBack into the chamber turning, all my soul within me burning,\\nSoon I heard again a tapping, somewhat louder than before.\\n\\\"Surely,\\\" said I, \\\"surely that is something at my window lattice;\\nLet me see, then, what thereat is, and this mystery explore--\\nLet my heart be still a moment, and this mystery explore;--\\n    'Tis the wind and nothing more.\\\"\\n\\nOpen here I flung the shutter, when, with many a flirt and flutter,\\nIn there stepped a stately Raven of the saintly days of yore;\\nNot the least obeisance made he: not an instant stopped or stayed he;\\nBut, with mien of lord or lady, perched above my chamber door--\\nPerched upon a bust of Pallas just above my chamber door--\\n    Perched, and sat, and nothing more.\\n\\nThen this ebony bird beguiling my sad fancy into smiling,\\nBy the grave and stern decorum of the countenance it wore,\\n\\\"Though thy crest be shorn and shaven, thou,\\\" I said, \\\"art sure no\\n  craven,\\nGhastly grim and ancient Raven wandering from the Nightly shore--\\nTell me what thy lordly name is on the Night's Plutonian shore!\\\"\\n      Quoth the Raven, \\\"Nevermore.\\\"\\n\\nMuch I marvelled this ungainly fowl to hear discourse so plainly,\\nThough its answer little meaning--little relevancy bore;\\nFor we cannot help agreeing that no living human being\\nEver yet was blessed with seeing bird above his chamber door--\\nBird or beast upon the sculptured bust above his chamber door,\\n      With such name as \\\"Nevermore.\\\"\\n\\nBut the Raven, sitting lonely on that placid bust, spoke only\\nThat one word, as if his soul in that one word he did outpour.\\nNothing further then he uttered--not a feather then he fluttered--\\nTill I scarcely more than muttered, \\\"Other friends have flown before--\\nOn the morrow _he_ will leave me, as my hopes have flown before.\\\"\\n      Then the bird said, \\\"Nevermore.\\\"\\n\\nStartled at the stillness broken by reply so aptly spoken,\\n\\\"Doubtless,\\\" said I, \\\"what it utters is its only stock and store,\\nCaught from some unhappy master whom unmerciful Disaster\\nFollowed fast and followed faster till his songs one burden bore--\\nTill the dirges of his Hope the melancholy burden bore\\n    Of 'Never--nevermore.'\\\"\\n\\nBut the Raven still beguiling all my sad soul into smiling,\\nStraight I wheeled a cushioned seat in front of bird and bust and\\n  door;\\nThen, upon the velvet sinking, I betook myself to linking\\nFancy unto fancy, thinking what this ominous bird of yore--\\nWhat this grim, ungainly, ghastly, gaunt, and ominous bird of yore\\n    Meant in croaking \\\"Nevermore.\\\"\\n\\nThis I sat engaged in guessing, but no syllable expressing\\nTo the fowl whose fiery eyes now burned into my bosom's core;\\nThis and more I sat divining, with my head at ease reclining\\nOn the cushion's velvet lining that the lamp-light gloated o'er,\\nBut whose velvet violet lining with the lamp-light gloating o'er,\\n      _She_ shall press, ah, nevermore!\\n\\nThen, methought, the air grew denser, perfumed from an unseen censer\\nSwung by Seraphim whose foot-falls tinkled on the tufted floor.\\n\\\"Wretch,\\\" I cried, \\\"thy God hath lent thee--by these angels he hath\\n  sent thee\\nRespite--respite aad nepenth\\u00e9 from thy memories of Lenore!\\nQuaff, oh quaff this kind nepenth\\u00e9, and forget this lost Lenore!\\\"\\n      Quoth the Raven, \\\"Nevermore.\\\"\\n\\n\\\"Prophet!\\\" said I, \\\"thing of evil!--prophet still, if bird or devil!--\\nWhether Tempter sent, or whether tempest tossed thee here ashore,\\nDesolate yet all undaunted, on this desert land enchanted--\\nOn this home by Horror haunted--tell me truly, I implore--\\nIs there--_is_ there balm in Gilead?--tell me--tell me, I implore!\\\"\\n    Quoth the Raven, \\\"Nevermore.\\\"\\n\\n\\\"Prophet!\\\" said I, \\\"thing of evil!--prophet still, if bird or devil!\\nBy that Heaven that bends above us--by that God we both adore--\\nTell this soul with sorrow laden if, within the distant Aidenn,\\nIt shall clasp a sainted maiden whom the angels name Lenore--\\nClasp a rare and radiant maiden whom the angels name Lenore.\\\"\\n      Quoth the Raven, \\\"Nevermore.\\\"\\n\\n\\\"Be that word our sign of parting, bird or fiend!\\\" I shrieked,\\n  upstarting--\\n\\\"Get thee back into the tempest and the Night's Plutonian shore!\\nLeave no black plume as a token of that lie thy soul hath spoken!\\nLeave my loneliness unbroken!--quit the bust above my door!\\nTake thy beak from out my heart, and take thy form from off my door!\\\"\\n    Quoth the Raven, \\\"Nevermore.\\\"\\n\\nAnd the Raven, never flitting, still is sitting, still is sitting\\nOn the pallid bust of Pallas just above my chamber door;\\nAnd his eyes have all the seeming of a demon's that is dreaming,\\nAnd the lamp-light o'er him streaming throws his shadow on the floor;\\nAnd my soul from out that shadow that lies floating on the floor\\n    Shall be lifted--nevermore!\"\n",
      "Sentiment(polarity=-0.03954678362573098, subjectivity=0.6020467836257312)\n",
      "Sentiment(polarity=0.3980555555555555, subjectivity=0.6621111111111112)\n",
      "Sentiment(polarity=0.07763157894736843, subjectivity=0.4618421052631579)\n",
      "Sentiment(polarity=0.004322916666666651, subjectivity=0.5266666666666666)\n"
     ]
    }
   ],
   "source": [
    "import spacy\n",
    "from textblob import TextBlob\n",
    "\n",
    "\n",
    "savefile('Edgar Allan Poe', 'The Raven', Raven)\n",
    "\n",
    "def sentimental(FILENAME):\n",
    "    text2 = FILENAME\n",
    "    blob=TextBlob(text2)\n",
    "    blob.sentiment_assessments.assessments\n",
    "    print(blob.sentiment)\n",
    "    \n",
    "sentimental(Raven)\n",
    "sentimental(Annabel)\n",
    "sentimental(Bells)\n",
    "sentimental(Lenore)"
   ]
  },
  {
   "cell_type": "code",
   "execution_count": 48,
   "metadata": {},
   "outputs": [
    {
     "name": "stdout",
     "output_type": "stream",
     "text": [
      "I personally would have thought that the polarity of The Raven would have been lower, but I can understand why it is closer to neutral than negative. I actually do agree with all of the rest of the polarity measurements.\n"
     ]
    }
   ],
   "source": [
    "print('I personally would have thought that the polarity of The Raven would have been lower, but I can understand why it is closer to neutral than negative. I actually do agree with all of the rest of the polarity measurements.')\n"
   ]
  },
  {
   "cell_type": "code",
   "execution_count": 49,
   "metadata": {},
   "outputs": [
    {
     "name": "stdout",
     "output_type": "stream",
     "text": [
      "StClair Homework\n"
     ]
    }
   ],
   "source": [
    "print('StClair Homework')"
   ]
  },
  {
   "cell_type": "code",
   "execution_count": null,
   "metadata": {},
   "outputs": [],
   "source": []
  }
 ],
 "metadata": {
  "kernelspec": {
   "display_name": "Python 3 (ipykernel)",
   "language": "python",
   "name": "python3"
  },
  "language_info": {
   "codemirror_mode": {
    "name": "ipython",
    "version": 3
   },
   "file_extension": ".py",
   "mimetype": "text/x-python",
   "name": "python",
   "nbconvert_exporter": "python",
   "pygments_lexer": "ipython3",
   "version": "3.9.12"
  }
 },
 "nbformat": 4,
 "nbformat_minor": 4
}
